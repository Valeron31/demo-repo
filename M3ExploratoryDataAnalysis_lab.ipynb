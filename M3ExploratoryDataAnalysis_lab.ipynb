{
  "nbformat": 4,
  "nbformat_minor": 0,
  "metadata": {
    "kernelspec": {
      "display_name": "Python 3",
      "language": "python",
      "name": "python3"
    },
    "language_info": {
      "codemirror_mode": {
        "name": "ipython",
        "version": 3
      },
      "file_extension": ".py",
      "mimetype": "text/x-python",
      "name": "python",
      "nbconvert_exporter": "python",
      "pygments_lexer": "ipython3",
      "version": "3.7.6"
    },
    "colab": {
      "name": "M3ExploratoryDataAnalysis-lab.ipynb",
      "provenance": []
    }
  },
  "cells": [
    {
      "cell_type": "markdown",
      "metadata": {
        "id": "nwE-QiSbJvTM"
      },
      "source": [
        "<center>\n",
        "    <img src=\"https://gitlab.com/ibm/skills-network/courses/placeholder101/-/raw/master/labs/module%201/images/IDSNlogo.png\" width=\"300\" alt=\"cognitiveclass.ai logo\"  />\n",
        "</center>\n"
      ]
    },
    {
      "cell_type": "markdown",
      "metadata": {
        "id": "MOSR8y5QJvTt"
      },
      "source": [
        "# **Exploratory Data Analysis Lab**\n"
      ]
    },
    {
      "cell_type": "markdown",
      "metadata": {
        "id": "GkTkMv5dJvTw"
      },
      "source": [
        "Estimated time needed: **30** minutes\n"
      ]
    },
    {
      "cell_type": "markdown",
      "metadata": {
        "id": "Uf9bv49SJvTz"
      },
      "source": [
        "In this module you get to work with the cleaned dataset from the previous module.\n",
        "\n",
        "In this assignment you will perform the task of exploratory data analysis.\n",
        "You will find out the distribution of data, presence of outliers and also determine the correlation between different columns in the dataset.\n"
      ]
    },
    {
      "cell_type": "markdown",
      "metadata": {
        "id": "sn10zVVuJvT2"
      },
      "source": [
        "## Objectives\n"
      ]
    },
    {
      "cell_type": "markdown",
      "metadata": {
        "id": "_QzaGW3jJvT4"
      },
      "source": [
        "In this lab you will perform the following:\n"
      ]
    },
    {
      "cell_type": "markdown",
      "metadata": {
        "id": "qIpQPz1zJvT5"
      },
      "source": [
        "*   Identify the distribution of data in the dataset.\n",
        "\n",
        "*   Identify outliers in the dataset.\n",
        "\n",
        "*   Remove outliers from the dataset.\n",
        "\n",
        "*   Identify correlation between features in the dataset.\n"
      ]
    },
    {
      "cell_type": "markdown",
      "metadata": {
        "id": "i0cKM0lkJvT7"
      },
      "source": [
        "***\n"
      ]
    },
    {
      "cell_type": "markdown",
      "metadata": {
        "id": "54-qdAWsJvT8"
      },
      "source": [
        "## Hands on Lab\n"
      ]
    },
    {
      "cell_type": "markdown",
      "metadata": {
        "id": "XsQgCtRMJvT-"
      },
      "source": [
        "Import the pandas module.\n"
      ]
    },
    {
      "cell_type": "code",
      "metadata": {
        "id": "2tiI8T7qJvT_"
      },
      "source": [
        "import pandas as pd"
      ],
      "execution_count": null,
      "outputs": []
    },
    {
      "cell_type": "markdown",
      "metadata": {
        "id": "LL7QR6ZxJvUC"
      },
      "source": [
        "Load the dataset into a dataframe.\n"
      ]
    },
    {
      "cell_type": "code",
      "metadata": {
        "colab": {
          "base_uri": "https://localhost:8080/",
          "height": 780
        },
        "id": "skAHDUoMJvUE",
        "outputId": "5968e0b8-188d-4825-f39c-62b204dda65f"
      },
      "source": [
        "df = pd.read_csv(\"https://cf-courses-data.s3.us.cloud-object-storage.appdomain.cloud/IBM-DA0321EN-SkillsNetwork/LargeData/m2_survey_data.csv\")\n",
        "df.head()"
      ],
      "execution_count": null,
      "outputs": [
        {
          "output_type": "execute_result",
          "data": {
            "text/html": [
              "<div>\n",
              "<style scoped>\n",
              "    .dataframe tbody tr th:only-of-type {\n",
              "        vertical-align: middle;\n",
              "    }\n",
              "\n",
              "    .dataframe tbody tr th {\n",
              "        vertical-align: top;\n",
              "    }\n",
              "\n",
              "    .dataframe thead th {\n",
              "        text-align: right;\n",
              "    }\n",
              "</style>\n",
              "<table border=\"1\" class=\"dataframe\">\n",
              "  <thead>\n",
              "    <tr style=\"text-align: right;\">\n",
              "      <th></th>\n",
              "      <th>Respondent</th>\n",
              "      <th>MainBranch</th>\n",
              "      <th>Hobbyist</th>\n",
              "      <th>OpenSourcer</th>\n",
              "      <th>OpenSource</th>\n",
              "      <th>Employment</th>\n",
              "      <th>Country</th>\n",
              "      <th>Student</th>\n",
              "      <th>EdLevel</th>\n",
              "      <th>UndergradMajor</th>\n",
              "      <th>EduOther</th>\n",
              "      <th>OrgSize</th>\n",
              "      <th>DevType</th>\n",
              "      <th>YearsCode</th>\n",
              "      <th>Age1stCode</th>\n",
              "      <th>YearsCodePro</th>\n",
              "      <th>CareerSat</th>\n",
              "      <th>JobSat</th>\n",
              "      <th>MgrIdiot</th>\n",
              "      <th>MgrMoney</th>\n",
              "      <th>MgrWant</th>\n",
              "      <th>JobSeek</th>\n",
              "      <th>LastHireDate</th>\n",
              "      <th>LastInt</th>\n",
              "      <th>FizzBuzz</th>\n",
              "      <th>JobFactors</th>\n",
              "      <th>ResumeUpdate</th>\n",
              "      <th>CurrencySymbol</th>\n",
              "      <th>CurrencyDesc</th>\n",
              "      <th>CompTotal</th>\n",
              "      <th>CompFreq</th>\n",
              "      <th>ConvertedComp</th>\n",
              "      <th>WorkWeekHrs</th>\n",
              "      <th>WorkPlan</th>\n",
              "      <th>WorkChallenge</th>\n",
              "      <th>WorkRemote</th>\n",
              "      <th>WorkLoc</th>\n",
              "      <th>ImpSyn</th>\n",
              "      <th>CodeRev</th>\n",
              "      <th>CodeRevHrs</th>\n",
              "      <th>...</th>\n",
              "      <th>DatabaseWorkedWith</th>\n",
              "      <th>DatabaseDesireNextYear</th>\n",
              "      <th>PlatformWorkedWith</th>\n",
              "      <th>PlatformDesireNextYear</th>\n",
              "      <th>WebFrameWorkedWith</th>\n",
              "      <th>WebFrameDesireNextYear</th>\n",
              "      <th>MiscTechWorkedWith</th>\n",
              "      <th>MiscTechDesireNextYear</th>\n",
              "      <th>DevEnviron</th>\n",
              "      <th>OpSys</th>\n",
              "      <th>Containers</th>\n",
              "      <th>BlockchainOrg</th>\n",
              "      <th>BlockchainIs</th>\n",
              "      <th>BetterLife</th>\n",
              "      <th>ITperson</th>\n",
              "      <th>OffOn</th>\n",
              "      <th>SocialMedia</th>\n",
              "      <th>Extraversion</th>\n",
              "      <th>ScreenName</th>\n",
              "      <th>SOVisit1st</th>\n",
              "      <th>SOVisitFreq</th>\n",
              "      <th>SOVisitTo</th>\n",
              "      <th>SOFindAnswer</th>\n",
              "      <th>SOTimeSaved</th>\n",
              "      <th>SOHowMuchTime</th>\n",
              "      <th>SOAccount</th>\n",
              "      <th>SOPartFreq</th>\n",
              "      <th>SOJobs</th>\n",
              "      <th>EntTeams</th>\n",
              "      <th>SOComm</th>\n",
              "      <th>WelcomeChange</th>\n",
              "      <th>SONewContent</th>\n",
              "      <th>Age</th>\n",
              "      <th>Gender</th>\n",
              "      <th>Trans</th>\n",
              "      <th>Sexuality</th>\n",
              "      <th>Ethnicity</th>\n",
              "      <th>Dependents</th>\n",
              "      <th>SurveyLength</th>\n",
              "      <th>SurveyEase</th>\n",
              "    </tr>\n",
              "  </thead>\n",
              "  <tbody>\n",
              "    <tr>\n",
              "      <th>0</th>\n",
              "      <td>4</td>\n",
              "      <td>I am a developer by profession</td>\n",
              "      <td>No</td>\n",
              "      <td>Never</td>\n",
              "      <td>The quality of OSS and closed source software ...</td>\n",
              "      <td>Employed full-time</td>\n",
              "      <td>United States</td>\n",
              "      <td>No</td>\n",
              "      <td>Bachelor’s degree (BA, BS, B.Eng., etc.)</td>\n",
              "      <td>Computer science, computer engineering, or sof...</td>\n",
              "      <td>Taken an online course in programming or softw...</td>\n",
              "      <td>100 to 499 employees</td>\n",
              "      <td>Developer, full-stack</td>\n",
              "      <td>3</td>\n",
              "      <td>16</td>\n",
              "      <td>Less than 1 year</td>\n",
              "      <td>Very satisfied</td>\n",
              "      <td>Slightly satisfied</td>\n",
              "      <td>Very confident</td>\n",
              "      <td>No</td>\n",
              "      <td>Not sure</td>\n",
              "      <td>I am not interested in new job opportunities</td>\n",
              "      <td>Less than a year ago</td>\n",
              "      <td>Write code by hand (e.g., on a whiteboard);Int...</td>\n",
              "      <td>No</td>\n",
              "      <td>Languages, frameworks, and other technologies ...</td>\n",
              "      <td>I was preparing for a job search</td>\n",
              "      <td>USD</td>\n",
              "      <td>United States dollar</td>\n",
              "      <td>61000.0</td>\n",
              "      <td>Yearly</td>\n",
              "      <td>61000.0</td>\n",
              "      <td>80.0</td>\n",
              "      <td>There's no schedule or spec; I work on what se...</td>\n",
              "      <td>NaN</td>\n",
              "      <td>Less than once per month / Never</td>\n",
              "      <td>Home</td>\n",
              "      <td>A little below average</td>\n",
              "      <td>No</td>\n",
              "      <td>NaN</td>\n",
              "      <td>...</td>\n",
              "      <td>MySQL;SQLite</td>\n",
              "      <td>MySQL;SQLite</td>\n",
              "      <td>Linux;Windows</td>\n",
              "      <td>Linux;Windows</td>\n",
              "      <td>NaN</td>\n",
              "      <td>NaN</td>\n",
              "      <td>.NET</td>\n",
              "      <td>.NET</td>\n",
              "      <td>Eclipse;Vim;Visual Studio;Visual Studio Code</td>\n",
              "      <td>Windows</td>\n",
              "      <td>I do not use containers</td>\n",
              "      <td>Not at all</td>\n",
              "      <td>Useful for decentralized currency (i.e., Bitcoin)</td>\n",
              "      <td>Yes</td>\n",
              "      <td>SIGH</td>\n",
              "      <td>Yes</td>\n",
              "      <td>Reddit</td>\n",
              "      <td>In real life (in person)</td>\n",
              "      <td>Username</td>\n",
              "      <td>2014</td>\n",
              "      <td>Daily or almost daily</td>\n",
              "      <td>Find answers to specific questions;Pass the ti...</td>\n",
              "      <td>1-2 times per week</td>\n",
              "      <td>Stack Overflow was much faster</td>\n",
              "      <td>31-60 minutes</td>\n",
              "      <td>Yes</td>\n",
              "      <td>Less than once per month or monthly</td>\n",
              "      <td>Yes</td>\n",
              "      <td>No, and I don't know what those are</td>\n",
              "      <td>No, not really</td>\n",
              "      <td>Just as welcome now as I felt last year</td>\n",
              "      <td>Tech articles written by other developers;Indu...</td>\n",
              "      <td>22.0</td>\n",
              "      <td>Man</td>\n",
              "      <td>No</td>\n",
              "      <td>Straight / Heterosexual</td>\n",
              "      <td>White or of European descent</td>\n",
              "      <td>No</td>\n",
              "      <td>Appropriate in length</td>\n",
              "      <td>Easy</td>\n",
              "    </tr>\n",
              "    <tr>\n",
              "      <th>1</th>\n",
              "      <td>9</td>\n",
              "      <td>I am a developer by profession</td>\n",
              "      <td>Yes</td>\n",
              "      <td>Once a month or more often</td>\n",
              "      <td>The quality of OSS and closed source software ...</td>\n",
              "      <td>Employed full-time</td>\n",
              "      <td>New Zealand</td>\n",
              "      <td>No</td>\n",
              "      <td>Some college/university study without earning ...</td>\n",
              "      <td>Computer science, computer engineering, or sof...</td>\n",
              "      <td>Taken an online course in programming or softw...</td>\n",
              "      <td>10 to 19 employees</td>\n",
              "      <td>Database administrator;Developer, back-end;Dev...</td>\n",
              "      <td>12</td>\n",
              "      <td>11</td>\n",
              "      <td>4</td>\n",
              "      <td>Slightly satisfied</td>\n",
              "      <td>Slightly satisfied</td>\n",
              "      <td>Somewhat confident</td>\n",
              "      <td>No</td>\n",
              "      <td>Not sure</td>\n",
              "      <td>I’m not actively looking, but I am open to new...</td>\n",
              "      <td>Less than a year ago</td>\n",
              "      <td>Write any code;Interview with people in peer r...</td>\n",
              "      <td>Yes</td>\n",
              "      <td>Financial performance or funding status of the...</td>\n",
              "      <td>I was preparing for a job search</td>\n",
              "      <td>NZD</td>\n",
              "      <td>New Zealand dollar</td>\n",
              "      <td>138000.0</td>\n",
              "      <td>Yearly</td>\n",
              "      <td>95179.0</td>\n",
              "      <td>32.0</td>\n",
              "      <td>There is a schedule and/or spec (made by me or...</td>\n",
              "      <td>Being tasked with non-development work;Inadequ...</td>\n",
              "      <td>Less than once per month / Never</td>\n",
              "      <td>Office</td>\n",
              "      <td>A little above average</td>\n",
              "      <td>Yes, because I see value in code review</td>\n",
              "      <td>12.0</td>\n",
              "      <td>...</td>\n",
              "      <td>DynamoDB;PostgreSQL;SQLite</td>\n",
              "      <td>PostgreSQL;Redis;SQLite</td>\n",
              "      <td>AWS;Docker;Heroku;Linux;MacOS;Slack</td>\n",
              "      <td>AWS;Docker;Heroku;Linux;MacOS;Slack;Other(s):</td>\n",
              "      <td>Express;Ruby on Rails;Other(s):</td>\n",
              "      <td>Express;Ruby on Rails;Other(s):</td>\n",
              "      <td>Node.js;Unity 3D</td>\n",
              "      <td>Node.js</td>\n",
              "      <td>Vim</td>\n",
              "      <td>MacOS</td>\n",
              "      <td>Development;Testing;Production</td>\n",
              "      <td>Not at all</td>\n",
              "      <td>An irresponsible use of resources</td>\n",
              "      <td>No</td>\n",
              "      <td>SIGH</td>\n",
              "      <td>Yes</td>\n",
              "      <td>Twitter</td>\n",
              "      <td>In real life (in person)</td>\n",
              "      <td>Username</td>\n",
              "      <td>2013</td>\n",
              "      <td>Daily or almost daily</td>\n",
              "      <td>Find answers to specific questions;Contribute ...</td>\n",
              "      <td>3-5 times per week</td>\n",
              "      <td>They were about the same</td>\n",
              "      <td>NaN</td>\n",
              "      <td>Yes</td>\n",
              "      <td>Less than once per month or monthly</td>\n",
              "      <td>No, I knew that Stack Overflow had a job board...</td>\n",
              "      <td>No, and I don't know what those are</td>\n",
              "      <td>Yes, somewhat</td>\n",
              "      <td>Just as welcome now as I felt last year</td>\n",
              "      <td>NaN</td>\n",
              "      <td>23.0</td>\n",
              "      <td>Man</td>\n",
              "      <td>No</td>\n",
              "      <td>Bisexual</td>\n",
              "      <td>White or of European descent</td>\n",
              "      <td>No</td>\n",
              "      <td>Appropriate in length</td>\n",
              "      <td>Neither easy nor difficult</td>\n",
              "    </tr>\n",
              "    <tr>\n",
              "      <th>2</th>\n",
              "      <td>13</td>\n",
              "      <td>I am a developer by profession</td>\n",
              "      <td>Yes</td>\n",
              "      <td>Less than once a month but more than once per ...</td>\n",
              "      <td>OSS is, on average, of HIGHER quality than pro...</td>\n",
              "      <td>Employed full-time</td>\n",
              "      <td>United States</td>\n",
              "      <td>No</td>\n",
              "      <td>Master’s degree (MA, MS, M.Eng., MBA, etc.)</td>\n",
              "      <td>Computer science, computer engineering, or sof...</td>\n",
              "      <td>Taken an online course in programming or softw...</td>\n",
              "      <td>10 to 19 employees</td>\n",
              "      <td>Data or business analyst;Database administrato...</td>\n",
              "      <td>17</td>\n",
              "      <td>11</td>\n",
              "      <td>8</td>\n",
              "      <td>Very satisfied</td>\n",
              "      <td>Very satisfied</td>\n",
              "      <td>NaN</td>\n",
              "      <td>NaN</td>\n",
              "      <td>NaN</td>\n",
              "      <td>I am not interested in new job opportunities</td>\n",
              "      <td>3-4 years ago</td>\n",
              "      <td>Complete a take-home project;Interview with pe...</td>\n",
              "      <td>Yes</td>\n",
              "      <td>Languages, frameworks, and other technologies ...</td>\n",
              "      <td>I was preparing for a job search</td>\n",
              "      <td>USD</td>\n",
              "      <td>United States dollar</td>\n",
              "      <td>90000.0</td>\n",
              "      <td>Yearly</td>\n",
              "      <td>90000.0</td>\n",
              "      <td>40.0</td>\n",
              "      <td>There is a schedule and/or spec (made by me or...</td>\n",
              "      <td>Meetings;Non-work commitments (parenting, scho...</td>\n",
              "      <td>All or almost all the time (I'm full-time remote)</td>\n",
              "      <td>Home</td>\n",
              "      <td>A little above average</td>\n",
              "      <td>Yes, because I see value in code review</td>\n",
              "      <td>5.0</td>\n",
              "      <td>...</td>\n",
              "      <td>Couchbase;DynamoDB;Firebase;MySQL</td>\n",
              "      <td>Firebase;MySQL;Redis</td>\n",
              "      <td>Android;AWS;Docker;IBM Cloud or Watson;iOS;Lin...</td>\n",
              "      <td>Android;AWS;Docker;IBM Cloud or Watson;Linux;S...</td>\n",
              "      <td>Angular/Angular.js;ASP.NET;Express;jQuery;Vue.js</td>\n",
              "      <td>Express;Vue.js</td>\n",
              "      <td>Node.js;Xamarin</td>\n",
              "      <td>Node.js;TensorFlow</td>\n",
              "      <td>Vim;Visual Studio;Visual Studio Code;Xcode</td>\n",
              "      <td>Windows</td>\n",
              "      <td>Development;Testing;Production</td>\n",
              "      <td>Not at all</td>\n",
              "      <td>Useful for decentralized currency (i.e., Bitcoin)</td>\n",
              "      <td>Yes</td>\n",
              "      <td>Yes</td>\n",
              "      <td>Yes</td>\n",
              "      <td>Twitter</td>\n",
              "      <td>In real life (in person)</td>\n",
              "      <td>Username</td>\n",
              "      <td>2011</td>\n",
              "      <td>Multiple times per day</td>\n",
              "      <td>Find answers to specific questions</td>\n",
              "      <td>More than 10 times per week</td>\n",
              "      <td>Stack Overflow was much faster</td>\n",
              "      <td>11-30 minutes</td>\n",
              "      <td>Yes</td>\n",
              "      <td>Less than once per month or monthly</td>\n",
              "      <td>Yes</td>\n",
              "      <td>No, I've heard of them, but I am not part of a...</td>\n",
              "      <td>Neutral</td>\n",
              "      <td>Somewhat more welcome now than last year</td>\n",
              "      <td>Tech articles written by other developers;Cour...</td>\n",
              "      <td>28.0</td>\n",
              "      <td>Man</td>\n",
              "      <td>No</td>\n",
              "      <td>Straight / Heterosexual</td>\n",
              "      <td>White or of European descent</td>\n",
              "      <td>Yes</td>\n",
              "      <td>Appropriate in length</td>\n",
              "      <td>Easy</td>\n",
              "    </tr>\n",
              "    <tr>\n",
              "      <th>3</th>\n",
              "      <td>16</td>\n",
              "      <td>I am a developer by profession</td>\n",
              "      <td>Yes</td>\n",
              "      <td>Never</td>\n",
              "      <td>The quality of OSS and closed source software ...</td>\n",
              "      <td>Employed full-time</td>\n",
              "      <td>United Kingdom</td>\n",
              "      <td>No</td>\n",
              "      <td>Master’s degree (MA, MS, M.Eng., MBA, etc.)</td>\n",
              "      <td>NaN</td>\n",
              "      <td>Taken an online course in programming or softw...</td>\n",
              "      <td>100 to 499 employees</td>\n",
              "      <td>Developer, full-stack</td>\n",
              "      <td>10</td>\n",
              "      <td>17</td>\n",
              "      <td>3</td>\n",
              "      <td>Very satisfied</td>\n",
              "      <td>Slightly satisfied</td>\n",
              "      <td>Somewhat confident</td>\n",
              "      <td>No</td>\n",
              "      <td>No</td>\n",
              "      <td>I’m not actively looking, but I am open to new...</td>\n",
              "      <td>3-4 years ago</td>\n",
              "      <td>Interview with people in senior / management r...</td>\n",
              "      <td>Yes</td>\n",
              "      <td>Languages, frameworks, and other technologies ...</td>\n",
              "      <td>I heard about a job opportunity (from a recrui...</td>\n",
              "      <td>GBP</td>\n",
              "      <td>Pound sterling</td>\n",
              "      <td>29000.0</td>\n",
              "      <td>Monthly</td>\n",
              "      <td>455352.0</td>\n",
              "      <td>40.0</td>\n",
              "      <td>There is a schedule and/or spec (made by me or...</td>\n",
              "      <td>Being tasked with non-development work;Distrac...</td>\n",
              "      <td>A few days each month</td>\n",
              "      <td>Home</td>\n",
              "      <td>Average</td>\n",
              "      <td>No</td>\n",
              "      <td>NaN</td>\n",
              "      <td>...</td>\n",
              "      <td>MongoDB;Microsoft SQL Server;MySQL</td>\n",
              "      <td>Elasticsearch;MongoDB;Microsoft SQL Server;SQLite</td>\n",
              "      <td>NaN</td>\n",
              "      <td>AWS;Google Cloud Platform;Microsoft Azure</td>\n",
              "      <td>Angular/Angular.js;ASP.NET;jQuery</td>\n",
              "      <td>Angular/Angular.js;ASP.NET;React.js</td>\n",
              "      <td>.NET;.NET Core;Node.js</td>\n",
              "      <td>.NET Core;Node.js;React Native</td>\n",
              "      <td>Visual Studio;Visual Studio Code</td>\n",
              "      <td>Windows</td>\n",
              "      <td>I do not use containers</td>\n",
              "      <td>Not at all</td>\n",
              "      <td>A passing fad</td>\n",
              "      <td>No</td>\n",
              "      <td>SIGH</td>\n",
              "      <td>No</td>\n",
              "      <td>YouTube</td>\n",
              "      <td>Online</td>\n",
              "      <td>Username</td>\n",
              "      <td>2010</td>\n",
              "      <td>Multiple times per day</td>\n",
              "      <td>Find answers to specific questions;Learn how t...</td>\n",
              "      <td>Less than once per week</td>\n",
              "      <td>Stack Overflow was much faster</td>\n",
              "      <td>11-30 minutes</td>\n",
              "      <td>Yes</td>\n",
              "      <td>Less than once per month or monthly</td>\n",
              "      <td>Yes</td>\n",
              "      <td>No, I've heard of them, but I am not part of a...</td>\n",
              "      <td>Yes, somewhat</td>\n",
              "      <td>Just as welcome now as I felt last year</td>\n",
              "      <td>Tech articles written by other developers;Indu...</td>\n",
              "      <td>26.0</td>\n",
              "      <td>Man</td>\n",
              "      <td>No</td>\n",
              "      <td>Straight / Heterosexual</td>\n",
              "      <td>White or of European descent</td>\n",
              "      <td>No</td>\n",
              "      <td>Appropriate in length</td>\n",
              "      <td>Neither easy nor difficult</td>\n",
              "    </tr>\n",
              "    <tr>\n",
              "      <th>4</th>\n",
              "      <td>17</td>\n",
              "      <td>I am a developer by profession</td>\n",
              "      <td>Yes</td>\n",
              "      <td>Less than once a month but more than once per ...</td>\n",
              "      <td>The quality of OSS and closed source software ...</td>\n",
              "      <td>Employed full-time</td>\n",
              "      <td>Australia</td>\n",
              "      <td>No</td>\n",
              "      <td>Bachelor’s degree (BA, BS, B.Eng., etc.)</td>\n",
              "      <td>Computer science, computer engineering, or sof...</td>\n",
              "      <td>Taken an online course in programming or softw...</td>\n",
              "      <td>20 to 99 employees</td>\n",
              "      <td>Developer, back-end;Developer, front-end;Devel...</td>\n",
              "      <td>5</td>\n",
              "      <td>18</td>\n",
              "      <td>2</td>\n",
              "      <td>Slightly satisfied</td>\n",
              "      <td>Neither satisfied nor dissatisfied</td>\n",
              "      <td>Somewhat confident</td>\n",
              "      <td>No</td>\n",
              "      <td>No</td>\n",
              "      <td>I am actively looking for a job</td>\n",
              "      <td>Less than a year ago</td>\n",
              "      <td>Complete a take-home project;Interview with pe...</td>\n",
              "      <td>No</td>\n",
              "      <td>Languages, frameworks, and other technologies ...</td>\n",
              "      <td>I was preparing for a job search</td>\n",
              "      <td>AUD</td>\n",
              "      <td>Australian dollar</td>\n",
              "      <td>90000.0</td>\n",
              "      <td>Yearly</td>\n",
              "      <td>65277.0</td>\n",
              "      <td>45.0</td>\n",
              "      <td>There's no schedule or spec; I work on what se...</td>\n",
              "      <td>Distracting work environment;Meetings;Time spe...</td>\n",
              "      <td>A few days each month</td>\n",
              "      <td>Other place, such as a coworking space or cafe</td>\n",
              "      <td>A little above average</td>\n",
              "      <td>Yes, because I see value in code review</td>\n",
              "      <td>5.0</td>\n",
              "      <td>...</td>\n",
              "      <td>MongoDB;PostgreSQL</td>\n",
              "      <td>Elasticsearch;Firebase;MongoDB;PostgreSQL</td>\n",
              "      <td>Arduino;Docker;Heroku;Raspberry Pi;WordPress</td>\n",
              "      <td>Docker</td>\n",
              "      <td>Angular/Angular.js;Express;Spring</td>\n",
              "      <td>Angular/Angular.js;Express;React.js;Spring;Vue.js</td>\n",
              "      <td>Node.js</td>\n",
              "      <td>Node.js;React Native</td>\n",
              "      <td>IntelliJ;Visual Studio Code</td>\n",
              "      <td>Linux-based</td>\n",
              "      <td>Development;Testing;Production;Outside of work...</td>\n",
              "      <td>Not at all</td>\n",
              "      <td>A passing fad</td>\n",
              "      <td>Yes</td>\n",
              "      <td>Fortunately, someone else has that title</td>\n",
              "      <td>What?</td>\n",
              "      <td>YouTube</td>\n",
              "      <td>In real life (in person)</td>\n",
              "      <td>NaN</td>\n",
              "      <td>2014</td>\n",
              "      <td>Daily or almost daily</td>\n",
              "      <td>Find answers to specific questions;Learn how t...</td>\n",
              "      <td>6-10 times per week</td>\n",
              "      <td>Stack Overflow was slightly faster</td>\n",
              "      <td>0-10 minutes</td>\n",
              "      <td>Yes</td>\n",
              "      <td>A few times per week</td>\n",
              "      <td>No, I didn't know that Stack Overflow had a jo...</td>\n",
              "      <td>No, I've heard of them, but I am not part of a...</td>\n",
              "      <td>Yes, somewhat</td>\n",
              "      <td>Just as welcome now as I felt last year</td>\n",
              "      <td>Tech articles written by other developers;Indu...</td>\n",
              "      <td>29.0</td>\n",
              "      <td>Man</td>\n",
              "      <td>No</td>\n",
              "      <td>Straight / Heterosexual</td>\n",
              "      <td>Hispanic or Latino/Latina;Multiracial</td>\n",
              "      <td>No</td>\n",
              "      <td>Appropriate in length</td>\n",
              "      <td>Easy</td>\n",
              "    </tr>\n",
              "  </tbody>\n",
              "</table>\n",
              "<p>5 rows × 85 columns</p>\n",
              "</div>"
            ],
            "text/plain": [
              "   Respondent  ...                  SurveyEase\n",
              "0           4  ...                        Easy\n",
              "1           9  ...  Neither easy nor difficult\n",
              "2          13  ...                        Easy\n",
              "3          16  ...  Neither easy nor difficult\n",
              "4          17  ...                        Easy\n",
              "\n",
              "[5 rows x 85 columns]"
            ]
          },
          "metadata": {},
          "execution_count": 3
        }
      ]
    },
    {
      "cell_type": "markdown",
      "metadata": {
        "id": "wuaujCDxJvUF"
      },
      "source": [
        "## Distribution\n"
      ]
    },
    {
      "cell_type": "markdown",
      "metadata": {
        "id": "ii1F8Z8YJvUF"
      },
      "source": [
        "### Determine how the data is distributed\n"
      ]
    },
    {
      "cell_type": "markdown",
      "metadata": {
        "id": "zRsbUDa1JvUG"
      },
      "source": [
        "The column `ConvertedComp` contains Salary converted to annual USD salaries using the exchange rate on 2019-02-01.\n",
        "\n",
        "This assumes 12 working months and 50 working weeks.\n"
      ]
    },
    {
      "cell_type": "markdown",
      "metadata": {
        "id": "5aIht6mUJvUH"
      },
      "source": [
        "Plot the distribution curve for the column `ConvertedComp`.\n"
      ]
    },
    {
      "cell_type": "code",
      "metadata": {
        "colab": {
          "base_uri": "https://localhost:8080/",
          "height": 386
        },
        "id": "MXLnGLcdJvUH",
        "outputId": "399a5f55-469f-44ed-cf07-789305e32214"
      },
      "source": [
        "# your code goes here\n",
        "import seaborn as sns\n",
        "\n",
        "sns.displot(data = df, x = 'ConvertedComp', kind = \"kde\")\n",
        "\n"
      ],
      "execution_count": null,
      "outputs": [
        {
          "output_type": "execute_result",
          "data": {
            "text/plain": [
              "<seaborn.axisgrid.FacetGrid at 0x7f80b3ccb510>"
            ]
          },
          "metadata": {},
          "execution_count": 4
        },
        {
          "output_type": "display_data",
          "data": {
            "image/png": "[encoded data removed]",
            "text/plain": [
              "<Figure size 360x360 with 1 Axes>"
            ]
          },
          "metadata": {
            "needs_background": "light"
          }
        }
      ]
    },
    {
      "cell_type": "markdown",
      "metadata": {
        "id": "5QYSnpCQJvUI"
      },
      "source": [
        "Plot the histogram for the column `ConvertedComp`.\n"
      ]
    },
    {
      "cell_type": "code",
      "metadata": {
        "colab": {
          "base_uri": "https://localhost:8080/",
          "height": 296
        },
        "id": "phnG4MMUJvUI",
        "outputId": "f07b8a9e-17bf-4b4c-976b-ad7b0351bdcb"
      },
      "source": [
        "# your code goes here\n",
        "sns.histplot(data = df, x = 'ConvertedComp')"
      ],
      "execution_count": null,
      "outputs": [
        {
          "output_type": "execute_result",
          "data": {
            "text/plain": [
              "<matplotlib.axes._subplots.AxesSubplot at 0x7f809c764750>"
            ]
          },
          "metadata": {},
          "execution_count": 5
        },
        {
          "output_type": "display_data",
          "data": {
            "image/png": "[encoded data removed]",
            "text/plain": [
              "<Figure size 432x288 with 1 Axes>"
            ]
          },
          "metadata": {
            "needs_background": "light"
          }
        }
      ]
    },
    {
      "cell_type": "markdown",
      "metadata": {
        "id": "qwgydDmDJvUJ"
      },
      "source": [
        "What is the median of the column `ConvertedComp`?\n"
      ]
    },
    {
      "cell_type": "code",
      "metadata": {
        "colab": {
          "base_uri": "https://localhost:8080/"
        },
        "id": "rhjL5u4yJvUK",
        "outputId": "7fc44185-512d-4fa8-bc33-a69dccdd471d"
      },
      "source": [
        "# your code goes here\n",
        "df['ConvertedComp'].median()"
      ],
      "execution_count": null,
      "outputs": [
        {
          "output_type": "execute_result",
          "data": {
            "text/plain": [
              "57745.0"
            ]
          },
          "metadata": {},
          "execution_count": 6
        }
      ]
    },
    {
      "cell_type": "markdown",
      "metadata": {
        "id": "pLJbqXzJJvUK"
      },
      "source": [
        "How many responders identified themselves only as a **Man**?\n"
      ]
    },
    {
      "cell_type": "code",
      "metadata": {
        "colab": {
          "base_uri": "https://localhost:8080/"
        },
        "id": "oj97FNVWJvUL",
        "outputId": "4f8b8a4c-6d37-4879-ccc5-05efc2df889f"
      },
      "source": [
        "# your code goes here\n",
        "df['Gender'].value_counts()"
      ],
      "execution_count": null,
      "outputs": [
        {
          "output_type": "execute_result",
          "data": {
            "text/plain": [
              "Man                                                            10480\n",
              "Woman                                                            731\n",
              "Non-binary, genderqueer, or gender non-conforming                 63\n",
              "Man;Non-binary, genderqueer, or gender non-conforming             26\n",
              "Woman;Non-binary, genderqueer, or gender non-conforming           14\n",
              "Woman;Man                                                          9\n",
              "Woman;Man;Non-binary, genderqueer, or gender non-conforming        2\n",
              "Name: Gender, dtype: int64"
            ]
          },
          "metadata": {},
          "execution_count": 7
        }
      ]
    },
    {
      "cell_type": "markdown",
      "metadata": {
        "id": "p1bQKM84JvUL"
      },
      "source": [
        "Find out the  median ConvertedComp of responders identified themselves only as a **Woman**?\n"
      ]
    },
    {
      "cell_type": "code",
      "metadata": {
        "colab": {
          "base_uri": "https://localhost:8080/"
        },
        "id": "j-PvYmd1JvUM",
        "outputId": "8164592b-6c36-4f78-c0d0-c28f033b9005"
      },
      "source": [
        "# your code goes here\n",
        "df.groupby('Gender')['ConvertedComp'].median()"
      ],
      "execution_count": null,
      "outputs": [
        {
          "output_type": "execute_result",
          "data": {
            "text/plain": [
              "Gender\n",
              "Man                                                            57744.0\n",
              "Man;Non-binary, genderqueer, or gender non-conforming          59520.0\n",
              "Non-binary, genderqueer, or gender non-conforming              67142.0\n",
              "Woman                                                          57708.0\n",
              "Woman;Man                                                      21648.0\n",
              "Woman;Man;Non-binary, genderqueer, or gender non-conforming    30244.0\n",
              "Woman;Non-binary, genderqueer, or gender non-conforming        65535.5\n",
              "Name: ConvertedComp, dtype: float64"
            ]
          },
          "metadata": {},
          "execution_count": 8
        }
      ]
    },
    {
      "cell_type": "markdown",
      "metadata": {
        "id": "Xh8SUBMOJvUN"
      },
      "source": [
        "Give the five number summary for the column `Age`?\n"
      ]
    },
    {
      "cell_type": "markdown",
      "metadata": {
        "id": "H53u_IfeJvUO"
      },
      "source": [
        "**Double click here for hint**.\n",
        "\n",
        "<!--\n",
        "min,q1,median,q3,max of a column are its five number summary.\n",
        "-->\n"
      ]
    },
    {
      "cell_type": "code",
      "metadata": {
        "colab": {
          "base_uri": "https://localhost:8080/"
        },
        "id": "T7NlE59EJvUO",
        "outputId": "9f24a511-d304-41af-e3b4-208f63f1d160"
      },
      "source": [
        "# your code goes here\n",
        "df['Age'].describe()"
      ],
      "execution_count": null,
      "outputs": [
        {
          "output_type": "execute_result",
          "data": {
            "text/plain": [
              "count    11111.000000\n",
              "mean        30.778895\n",
              "std          7.393686\n",
              "min         16.000000\n",
              "25%         25.000000\n",
              "50%         29.000000\n",
              "75%         35.000000\n",
              "max         99.000000\n",
              "Name: Age, dtype: float64"
            ]
          },
          "metadata": {},
          "execution_count": 9
        }
      ]
    },
    {
      "cell_type": "markdown",
      "metadata": {
        "id": "Llf9EnMQJvUP"
      },
      "source": [
        "Plot a histogram of the column `Age`.\n"
      ]
    },
    {
      "cell_type": "code",
      "metadata": {
        "colab": {
          "base_uri": "https://localhost:8080/",
          "height": 296
        },
        "id": "MpCFs3R3JvUQ",
        "outputId": "f6ec41b3-c39d-463c-d23c-48f6baa50fe4"
      },
      "source": [
        "# your code goes here\n",
        "sns.histplot(data = df, x = 'Age')"
      ],
      "execution_count": null,
      "outputs": [
        {
          "output_type": "execute_result",
          "data": {
            "text/plain": [
              "<matplotlib.axes._subplots.AxesSubplot at 0x7f809c75ba90>"
            ]
          },
          "metadata": {},
          "execution_count": 10
        },
        {
          "output_type": "display_data",
          "data": {
            "image/png": "[encoded data removed]",
            "text/plain": [
              "<Figure size 432x288 with 1 Axes>"
            ]
          },
          "metadata": {
            "needs_background": "light"
          }
        }
      ]
    },
    {
      "cell_type": "markdown",
      "metadata": {
        "id": "JQE3THaZJvUQ"
      },
      "source": [
        "## Outliers\n"
      ]
    },
    {
      "cell_type": "markdown",
      "metadata": {
        "id": "uQbSmk_XJvUR"
      },
      "source": [
        "### Finding outliers\n"
      ]
    },
    {
      "cell_type": "markdown",
      "metadata": {
        "id": "jhfKyONEJvUR"
      },
      "source": [
        "Find out if outliers exist in the column `ConvertedComp` using a box plot?\n"
      ]
    },
    {
      "cell_type": "code",
      "metadata": {
        "colab": {
          "base_uri": "https://localhost:8080/",
          "height": 280
        },
        "id": "0AmWYjQlJvUR",
        "outputId": "e039142e-618d-44b9-f5fd-45a1dfc5ced2"
      },
      "source": [
        "# your code goes here\n",
        "sns.boxplot(data=df, y = 'ConvertedComp')"
      ],
      "execution_count": null,
      "outputs": [
        {
          "output_type": "execute_result",
          "data": {
            "text/plain": [
              "<matplotlib.axes._subplots.AxesSubplot at 0x7f8099d42950>"
            ]
          },
          "metadata": {},
          "execution_count": 11
        },
        {
          "output_type": "display_data",
          "data": {
            "image/png": "[encoded data removed]",
            "text/plain": [
              "<Figure size 432x288 with 1 Axes>"
            ]
          },
          "metadata": {
            "needs_background": "light"
          }
        }
      ]
    },
    {
      "cell_type": "markdown",
      "metadata": {
        "id": "e5IEMHIqJvUS"
      },
      "source": [
        "Find out the Inter Quartile Range for the column `ConvertedComp`.\n"
      ]
    },
    {
      "cell_type": "code",
      "metadata": {
        "colab": {
          "base_uri": "https://localhost:8080/"
        },
        "id": "8BhNlD7gJvUS",
        "outputId": "8b6def30-4b22-4c25-a93a-d0f5825e2192"
      },
      "source": [
        "# your code goes here\n",
        "import numpy as np\n",
        "#from numpy import percentile\n",
        "\n",
        "df['ConvertedComp'].describe()\n",
        "\n",
        "q1 = df['ConvertedComp'].quantile(0.25)\n",
        "\n",
        "q3 = df['ConvertedComp'].quantile(0.75)\n",
        "\n",
        "iqr = q3 - q1\n",
        "\n",
        "\n",
        "print('the interquartile range is:', iqr)\n"
      ],
      "execution_count": null,
      "outputs": [
        {
          "output_type": "stream",
          "name": "stdout",
          "text": [
            "the interquartile range is: 73132.0\n"
          ]
        }
      ]
    },
    {
      "cell_type": "markdown",
      "metadata": {
        "id": "tm9foZfZJvUT"
      },
      "source": [
        "Find out the upper and lower bounds.\n"
      ]
    },
    {
      "cell_type": "code",
      "metadata": {
        "id": "wef4YnHEJvUT",
        "colab": {
          "base_uri": "https://localhost:8080/"
        },
        "outputId": "387b8a76-202b-4119-b068-e8c088c598c8"
      },
      "source": [
        "# your code goes here\n",
        "min_val = df['ConvertedComp'].min()\n",
        "max_val = df['ConvertedComp'].max()\n",
        "\n",
        "print('the minimum and maximum bounds are', min_val, 'and', max_val, 'respectively')"
      ],
      "execution_count": null,
      "outputs": [
        {
          "output_type": "stream",
          "name": "stdout",
          "text": [
            "the minimum and maximum bounds are 0.0 and 2000000.0 respectively\n"
          ]
        }
      ]
    },
    {
      "cell_type": "markdown",
      "metadata": {
        "id": "a1LZ9pgVJvUV"
      },
      "source": [
        "Identify how many outliers are there in the `ConvertedComp` column.\n"
      ]
    },
    {
      "cell_type": "code",
      "metadata": {
        "id": "15DN65m1JvUV",
        "colab": {
          "base_uri": "https://localhost:8080/"
        },
        "outputId": "37638551-230c-4417-c845-ed444423d961"
      },
      "source": [
        "# your code goes here\n",
        "print('outliers below:', df['ConvertedComp'].le(q1 - 1.5*iqr).sum())\n",
        "\n",
        "print('outliers above:', df['ConvertedComp'].gt(q3 + 1.5*iqr).sum())"
      ],
      "execution_count": null,
      "outputs": [
        {
          "output_type": "stream",
          "name": "stdout",
          "text": [
            "outliers below: 0\n",
            "outliers above: 879\n"
          ]
        }
      ]
    },
    {
      "cell_type": "markdown",
      "metadata": {
        "id": "tHQwKWRmJvUW"
      },
      "source": [
        "Create a new dataframe by removing the outliers from the `ConvertedComp` column.\n"
      ]
    },
    {
      "cell_type": "code",
      "metadata": {
        "id": "TQBsTswHJvUW",
        "colab": {
          "base_uri": "https://localhost:8080/"
        },
        "outputId": "7088696d-60d1-4fc0-be62-4173f2f675e9"
      },
      "source": [
        "# your code goes here\n",
        "print('the shape of the original dataframe is:', df.shape)\n",
        "\n",
        "df1 = df[df['ConvertedComp'].le(q3 + 1.5*iqr)]\n",
        "print('the shape of the new dataframe with outliers removed is:', df1.shape)\n",
        "\n",
        "mean_after = df[df['ConvertedComp'].le(q3 + 1.5*iqr)].mean()\n",
        "\n",
        "print('the mean after removing the outlier is:', mean_after)\n",
        "\n"
      ],
      "execution_count": null,
      "outputs": [
        {
          "output_type": "stream",
          "name": "stdout",
          "text": [
            "the shape of the original dataframe is: (11398, 85)\n",
            "the shape of the new dataframe with outliers removed is: (9703, 85)\n",
            "the mean after removing the outlier is: Respondent        12501.007317\n",
            "CompTotal        724113.931155\n",
            "ConvertedComp     59883.208389\n",
            "WorkWeekHrs          41.864782\n",
            "CodeRevHrs            4.737455\n",
            "Age                  30.695860\n",
            "dtype: float64\n"
          ]
        }
      ]
    },
    {
      "cell_type": "markdown",
      "metadata": {
        "id": "H0bUt30iJvUX"
      },
      "source": [
        "## Correlation\n"
      ]
    },
    {
      "cell_type": "markdown",
      "metadata": {
        "id": "ucVqY9WBJvUX"
      },
      "source": [
        "### Finding correlation\n"
      ]
    },
    {
      "cell_type": "markdown",
      "metadata": {
        "id": "NYwzib-kJvUY"
      },
      "source": [
        "Find the correlation between `Age` and all other numerical columns.\n"
      ]
    },
    {
      "cell_type": "code",
      "metadata": {
        "id": "bpAX3hbfJvUY",
        "colab": {
          "base_uri": "https://localhost:8080/"
        },
        "outputId": "19699f6c-4fee-414e-96d7-e1b41c156b31"
      },
      "source": [
        "# your code goes here\n",
        "df.corr()['Age']\n",
        "\n",
        "#sns.histplot(data = df, x = 'Age')\n",
        "\n",
        "#sns.boxplot(data = df, y = 'Age')"
      ],
      "execution_count": null,
      "outputs": [
        {
          "output_type": "execute_result",
          "data": {
            "text/plain": [
              "Respondent       0.004041\n",
              "CompTotal        0.006970\n",
              "ConvertedComp    0.105386\n",
              "WorkWeekHrs      0.036518\n",
              "CodeRevHrs      -0.020469\n",
              "Age              1.000000\n",
              "Name: Age, dtype: float64"
            ]
          },
          "metadata": {},
          "execution_count": 43
        }
      ]
    },
    {
      "cell_type": "markdown",
      "metadata": {
        "id": "3Cl6TH2XJvUZ"
      },
      "source": [
        "## Authors\n"
      ]
    },
    {
      "cell_type": "markdown",
      "metadata": {
        "id": "XxnVdzejJvUZ"
      },
      "source": [
        "Ramesh Sannareddy\n"
      ]
    },
    {
      "cell_type": "markdown",
      "metadata": {
        "id": "vmgIFPowJvUa"
      },
      "source": [
        "### Other Contributors\n"
      ]
    },
    {
      "cell_type": "markdown",
      "metadata": {
        "id": "u21AHWQSJvUa"
      },
      "source": [
        "Rav Ahuja\n"
      ]
    },
    {
      "cell_type": "markdown",
      "metadata": {
        "id": "aCA2B1L-JvUa"
      },
      "source": [
        "## Change Log\n"
      ]
    },
    {
      "cell_type": "markdown",
      "metadata": {
        "id": "cEPp6lJaJvUb"
      },
      "source": [
        "| Date (YYYY-MM-DD) | Version | Changed By        | Change Description                 |\n",
        "| ----------------- | ------- | ----------------- | ---------------------------------- |\n",
        "| 2020-10-17        | 0.1     | Ramesh Sannareddy | Created initial version of the lab |\n"
      ]
    },
    {
      "cell_type": "markdown",
      "metadata": {
        "id": "KGjNELR9JvUb"
      },
      "source": [
        "Copyright © 2020 IBM Corporation. This notebook and its source code are released under the terms of the [MIT License](https://cognitiveclass.ai/mit-license?utm_medium=Exinfluencer&utm_source=Exinfluencer&utm_content=000026UJ&utm_term=10006555&utm_id=NA-SkillsNetwork-Channel-SkillsNetworkCoursesIBMDA0321ENSkillsNetwork21426264-2021-01-01&cm_mmc=Email_Newsletter-\\_-Developer_Ed%2BTech-\\_-WW_WW-\\_-SkillsNetwork-Courses-IBM-DA0321EN-SkillsNetwork-21426264&cm_mmca1=000026UJ&cm_mmca2=10006555&cm_mmca3=M12345678&cvosrc=email.Newsletter.M12345678&cvo_campaign=000026UJ).\n"
      ]
    }
  ]
}